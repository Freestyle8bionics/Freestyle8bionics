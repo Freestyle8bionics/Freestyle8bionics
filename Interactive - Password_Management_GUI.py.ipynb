{
 "cells": [
  {
   "cell_type": "markdown",
   "metadata": {
    "isInteractiveWindowMessageCell": true
   },
   "source": [
    "Connected to .venv (Python 3.9.6)"
   ]
  },
  {
   "cell_type": "code",
   "execution_count": 1,
   "metadata": {},
   "outputs": [
    {
     "ename": "ValueError",
     "evalue": "['text_font'] are not supported arguments. Look at the documentation for supported arguments.",
     "output_type": "error",
     "traceback": [
      "\u001b[0;31m---------------------------------------------------------------------------\u001b[0m",
      "\u001b[0;31mValueError\u001b[0m                                Traceback (most recent call last)",
      "Cell \u001b[0;32mIn[1], line 17\u001b[0m\n\u001b[1;32m     14\u001b[0m frame \u001b[38;5;241m=\u001b[39m customtkinter\u001b[38;5;241m.\u001b[39mCTkFrame(master\u001b[38;5;241m=\u001b[39mroot)\n\u001b[1;32m     15\u001b[0m frame\u001b[38;5;241m.\u001b[39mpack(pady\u001b[38;5;241m=\u001b[39m\u001b[38;5;241m20\u001b[39m, padx\u001b[38;5;241m=\u001b[39m\u001b[38;5;241m60\u001b[39m, fill\u001b[38;5;241m=\u001b[39m\u001b[38;5;124m\"\u001b[39m\u001b[38;5;124mboth\u001b[39m\u001b[38;5;124m\"\u001b[39m, expand\u001b[38;5;241m=\u001b[39m\u001b[38;5;28;01mTrue\u001b[39;00m)\n\u001b[0;32m---> 17\u001b[0m label \u001b[38;5;241m=\u001b[39m \u001b[43mcustomtkinter\u001b[49m\u001b[38;5;241;43m.\u001b[39;49m\u001b[43mCTkLabel\u001b[49m\u001b[43m(\u001b[49m\u001b[43mmaster\u001b[49m\u001b[38;5;241;43m=\u001b[39;49m\u001b[43mframe\u001b[49m\u001b[43m,\u001b[49m\u001b[43m \u001b[49m\u001b[43mtext\u001b[49m\u001b[38;5;241;43m=\u001b[39;49m\u001b[38;5;124;43m\"\u001b[39;49m\u001b[38;5;124;43mLogin System\u001b[39;49m\u001b[38;5;124;43m\"\u001b[39;49m\u001b[43m,\u001b[49m\u001b[43m \u001b[49m\u001b[43mtext_font\u001b[49m\u001b[38;5;241;43m=\u001b[39;49m\u001b[43m(\u001b[49m\u001b[38;5;124;43m\"\u001b[39;49m\u001b[38;5;124;43mRoboto\u001b[39;49m\u001b[38;5;124;43m\"\u001b[39;49m\u001b[43m,\u001b[49m\u001b[43m \u001b[49m\u001b[38;5;241;43m24\u001b[39;49m\u001b[43m)\u001b[49m\u001b[43m)\u001b[49m\n\u001b[1;32m     18\u001b[0m label\u001b[38;5;241m.\u001b[39mpack(pady\u001b[38;5;241m=\u001b[39m\u001b[38;5;241m12\u001b[39m, padx\u001b[38;5;241m=\u001b[39m\u001b[38;5;241m10\u001b[39m)\n\u001b[1;32m     20\u001b[0m entry1 \u001b[38;5;241m=\u001b[39m customtkinter\u001b[38;5;241m.\u001b[39mCTkEntry(master\u001b[38;5;241m=\u001b[39mframe, placeholder_text\u001b[38;5;241m=\u001b[39m\u001b[38;5;124m\"\u001b[39m\u001b[38;5;124mUsername\u001b[39m\u001b[38;5;124m\"\u001b[39m)\n",
      "File \u001b[0;32m~/Documents/Freestyle bionics Official/Artificial intelligence/.venv/lib/python3.9/site-packages/customtkinter/windows/widgets/ctk_label.py:101\u001b[0m, in \u001b[0;36mCTkLabel.__init__\u001b[0;34m(self, master, width, height, corner_radius, bg_color, fg_color, text_color, text_color_disabled, text, font, image, compound, anchor, wraplength, **kwargs)\u001b[0m\n\u001b[1;32m     89\u001b[0m \u001b[38;5;28mself\u001b[39m\u001b[38;5;241m.\u001b[39m_label \u001b[38;5;241m=\u001b[39m tkinter\u001b[38;5;241m.\u001b[39mLabel(master\u001b[38;5;241m=\u001b[39m\u001b[38;5;28mself\u001b[39m,\n\u001b[1;32m     90\u001b[0m                             highlightthickness\u001b[38;5;241m=\u001b[39m\u001b[38;5;241m0\u001b[39m,\n\u001b[1;32m     91\u001b[0m                             padx\u001b[38;5;241m=\u001b[39m\u001b[38;5;241m0\u001b[39m,\n\u001b[0;32m   (...)\u001b[0m\n\u001b[1;32m     97\u001b[0m                             text\u001b[38;5;241m=\u001b[39m\u001b[38;5;28mself\u001b[39m\u001b[38;5;241m.\u001b[39m_text,\n\u001b[1;32m     98\u001b[0m                             font\u001b[38;5;241m=\u001b[39m\u001b[38;5;28mself\u001b[39m\u001b[38;5;241m.\u001b[39m_apply_font_scaling(\u001b[38;5;28mself\u001b[39m\u001b[38;5;241m.\u001b[39m_font))\n\u001b[1;32m     99\u001b[0m \u001b[38;5;28mself\u001b[39m\u001b[38;5;241m.\u001b[39m_label\u001b[38;5;241m.\u001b[39mconfigure(\u001b[38;5;241m*\u001b[39m\u001b[38;5;241m*\u001b[39mpop_from_dict_by_set(kwargs, \u001b[38;5;28mself\u001b[39m\u001b[38;5;241m.\u001b[39m_valid_tk_label_attributes))\n\u001b[0;32m--> 101\u001b[0m \u001b[43mcheck_kwargs_empty\u001b[49m\u001b[43m(\u001b[49m\u001b[43mkwargs\u001b[49m\u001b[43m,\u001b[49m\u001b[43m \u001b[49m\u001b[43mraise_error\u001b[49m\u001b[38;5;241;43m=\u001b[39;49m\u001b[38;5;28;43;01mTrue\u001b[39;49;00m\u001b[43m)\u001b[49m\n\u001b[1;32m    103\u001b[0m \u001b[38;5;28mself\u001b[39m\u001b[38;5;241m.\u001b[39m_create_grid()\n\u001b[1;32m    104\u001b[0m \u001b[38;5;28mself\u001b[39m\u001b[38;5;241m.\u001b[39m_update_image()\n",
      "File \u001b[0;32m~/Documents/Freestyle bionics Official/Artificial intelligence/.venv/lib/python3.9/site-packages/customtkinter/windows/widgets/utility/utility_functions.py:18\u001b[0m, in \u001b[0;36mcheck_kwargs_empty\u001b[0;34m(kwargs_dict, raise_error)\u001b[0m\n\u001b[1;32m     16\u001b[0m \u001b[38;5;28;01mif\u001b[39;00m \u001b[38;5;28mlen\u001b[39m(kwargs_dict) \u001b[38;5;241m>\u001b[39m \u001b[38;5;241m0\u001b[39m:\n\u001b[1;32m     17\u001b[0m     \u001b[38;5;28;01mif\u001b[39;00m raise_error:\n\u001b[0;32m---> 18\u001b[0m         \u001b[38;5;28;01mraise\u001b[39;00m \u001b[38;5;167;01mValueError\u001b[39;00m(\u001b[38;5;124mf\u001b[39m\u001b[38;5;124m\"\u001b[39m\u001b[38;5;132;01m{\u001b[39;00m\u001b[38;5;28mlist\u001b[39m(kwargs_dict\u001b[38;5;241m.\u001b[39mkeys())\u001b[38;5;132;01m}\u001b[39;00m\u001b[38;5;124m are not supported arguments. Look at the documentation for supported arguments.\u001b[39m\u001b[38;5;124m\"\u001b[39m)\n\u001b[1;32m     19\u001b[0m     \u001b[38;5;28;01melse\u001b[39;00m:\n\u001b[1;32m     20\u001b[0m         \u001b[38;5;28;01mreturn\u001b[39;00m \u001b[38;5;28;01mTrue\u001b[39;00m\n",
      "\u001b[0;31mValueError\u001b[0m: ['text_font'] are not supported arguments. Look at the documentation for supported arguments."
     ]
    }
   ],
   "source": [
    "import customtkinter\n",
    "\n",
    "customtkinter.set_appearance_mode(\"dark\")\n",
    "customtkinter.set_default_color_theme(\"dark-blue\")\n",
    "\n",
    "root = customtkinter.CTk()\n",
    "root.geometry(\"500x350\")\n",
    "\n",
    "\n",
    "def login():\n",
    "    print(\"Sign In\")\n",
    "\n",
    "\n",
    "frame = customtkinter.CTkFrame(master=root)\n",
    "frame.pack(pady=20, padx=60, fill=\"both\", expand=True)\n",
    "\n",
    "label = customtkinter.CTkLabel(master=frame, text=\"Login System\", text_font=(\"Roboto\", 24))\n",
    "label.pack(pady=12, padx=10)\n",
    "\n",
    "entry1 = customtkinter.CTkEntry(master=frame, placeholder_text=\"Username\")\n",
    "entry1.pack(pady=12, padx=10)\n",
    "entry2 = customtkinter.CTkEntry(master=frame, placeholder_text=\"Password\", show=\"*\")\n",
    "entry2.pack(pady=12, padx=10)\n",
    "\n",
    "button = customtkinter.CTkButton(master=frame, text=\"Login\", command=login)\n",
    "button.pack(pady=12, padx=10)\n",
    "\n",
    "checkbox = customtkinter.CTkCheckBox(master=frame, text=\"Remember Me\")\n",
    "checkbox.pack(padt=12, padx=10)\n",
    "\n",
    "root.mainloop()"
   ]
  },
  {
   "cell_type": "code",
   "execution_count": 2,
   "metadata": {},
   "outputs": [
    {
     "ename": "ValueError",
     "evalue": "['text_font'] are not supported arguments. Look at the documentation for supported arguments.",
     "output_type": "error",
     "traceback": [
      "\u001b[0;31m---------------------------------------------------------------------------\u001b[0m",
      "\u001b[0;31mValueError\u001b[0m                                Traceback (most recent call last)",
      "File \u001b[1;32m/Users/freestylebionicsyt/Documents/Freestyle bionics Official/Artificial intelligence/Password manager/Password_Management_GUI.py:17\u001b[0m\n\u001b[1;32m     14\u001b[0m frame \u001b[39m=\u001b[39m customtkinter\u001b[39m.\u001b[39mCTkFrame(master\u001b[39m=\u001b[39mroot)\n\u001b[1;32m     15\u001b[0m frame\u001b[39m.\u001b[39mpack(pady\u001b[39m=\u001b[39m\u001b[39m20\u001b[39m, padx\u001b[39m=\u001b[39m\u001b[39m60\u001b[39m, fill\u001b[39m=\u001b[39m\u001b[39m\"\u001b[39m\u001b[39mboth\u001b[39m\u001b[39m\"\u001b[39m, expand\u001b[39m=\u001b[39m\u001b[39mTrue\u001b[39;00m)\n\u001b[0;32m---> 17\u001b[0m label \u001b[39m=\u001b[39m customtkinter\u001b[39m.\u001b[39;49mCTkLabel(master\u001b[39m=\u001b[39;49mframe, text\u001b[39m=\u001b[39;49m\u001b[39m\"\u001b[39;49m\u001b[39mLogin System\u001b[39;49m\u001b[39m\"\u001b[39;49m, text_font\u001b[39m=\u001b[39;49m(\u001b[39m\"\u001b[39;49m\u001b[39mArial\u001b[39;49m\u001b[39m\"\u001b[39;49m, \u001b[39m24\u001b[39;49m))\n\u001b[1;32m     18\u001b[0m label\u001b[39m.\u001b[39mpack(pady\u001b[39m=\u001b[39m\u001b[39m12\u001b[39m, padx\u001b[39m=\u001b[39m\u001b[39m10\u001b[39m)\n\u001b[1;32m     20\u001b[0m entry1 \u001b[39m=\u001b[39m customtkinter\u001b[39m.\u001b[39mCTkEntry(master\u001b[39m=\u001b[39mframe, placeholder_text\u001b[39m=\u001b[39m\u001b[39m\"\u001b[39m\u001b[39mUsername\u001b[39m\u001b[39m\"\u001b[39m)\n",
      "File \u001b[0;32m~/Documents/Freestyle bionics Official/Artificial intelligence/.venv/lib/python3.9/site-packages/customtkinter/windows/widgets/ctk_label.py:101\u001b[0m, in \u001b[0;36mCTkLabel.__init__\u001b[0;34m(self, master, width, height, corner_radius, bg_color, fg_color, text_color, text_color_disabled, text, font, image, compound, anchor, wraplength, **kwargs)\u001b[0m\n\u001b[1;32m     89\u001b[0m \u001b[39mself\u001b[39m\u001b[39m.\u001b[39m_label \u001b[39m=\u001b[39m tkinter\u001b[39m.\u001b[39mLabel(master\u001b[39m=\u001b[39m\u001b[39mself\u001b[39m,\n\u001b[1;32m     90\u001b[0m                             highlightthickness\u001b[39m=\u001b[39m\u001b[39m0\u001b[39m,\n\u001b[1;32m     91\u001b[0m                             padx\u001b[39m=\u001b[39m\u001b[39m0\u001b[39m,\n\u001b[0;32m   (...)\u001b[0m\n\u001b[1;32m     97\u001b[0m                             text\u001b[39m=\u001b[39m\u001b[39mself\u001b[39m\u001b[39m.\u001b[39m_text,\n\u001b[1;32m     98\u001b[0m                             font\u001b[39m=\u001b[39m\u001b[39mself\u001b[39m\u001b[39m.\u001b[39m_apply_font_scaling(\u001b[39mself\u001b[39m\u001b[39m.\u001b[39m_font))\n\u001b[1;32m     99\u001b[0m \u001b[39mself\u001b[39m\u001b[39m.\u001b[39m_label\u001b[39m.\u001b[39mconfigure(\u001b[39m*\u001b[39m\u001b[39m*\u001b[39mpop_from_dict_by_set(kwargs, \u001b[39mself\u001b[39m\u001b[39m.\u001b[39m_valid_tk_label_attributes))\n\u001b[0;32m--> 101\u001b[0m check_kwargs_empty(kwargs, raise_error\u001b[39m=\u001b[39;49m\u001b[39mTrue\u001b[39;49;00m)\n\u001b[1;32m    103\u001b[0m \u001b[39mself\u001b[39m\u001b[39m.\u001b[39m_create_grid()\n\u001b[1;32m    104\u001b[0m \u001b[39mself\u001b[39m\u001b[39m.\u001b[39m_update_image()\n",
      "File \u001b[0;32m~/Documents/Freestyle bionics Official/Artificial intelligence/.venv/lib/python3.9/site-packages/customtkinter/windows/widgets/utility/utility_functions.py:18\u001b[0m, in \u001b[0;36mcheck_kwargs_empty\u001b[0;34m(kwargs_dict, raise_error)\u001b[0m\n\u001b[1;32m     16\u001b[0m \u001b[39mif\u001b[39;00m \u001b[39mlen\u001b[39m(kwargs_dict) \u001b[39m>\u001b[39m \u001b[39m0\u001b[39m:\n\u001b[1;32m     17\u001b[0m     \u001b[39mif\u001b[39;00m raise_error:\n\u001b[0;32m---> 18\u001b[0m         \u001b[39mraise\u001b[39;00m \u001b[39mValueError\u001b[39;00m(\u001b[39mf\u001b[39m\u001b[39m\"\u001b[39m\u001b[39m{\u001b[39;00m\u001b[39mlist\u001b[39m(kwargs_dict\u001b[39m.\u001b[39mkeys())\u001b[39m}\u001b[39;00m\u001b[39m are not supported arguments. Look at the documentation for supported arguments.\u001b[39m\u001b[39m\"\u001b[39m)\n\u001b[1;32m     19\u001b[0m     \u001b[39melse\u001b[39;00m:\n\u001b[1;32m     20\u001b[0m         \u001b[39mreturn\u001b[39;00m \u001b[39mTrue\u001b[39;00m\n",
      "\u001b[0;31mValueError\u001b[0m: ['text_font'] are not supported arguments. Look at the documentation for supported arguments."
     ]
    }
   ],
   "source": [
    "import customtkinter\n",
    "\n",
    "customtkinter.set_appearance_mode(\"dark\")\n",
    "customtkinter.set_default_color_theme(\"dark-blue\")\n",
    "\n",
    "root = customtkinter.CTk()\n",
    "root.geometry(\"500x350\")\n",
    "\n",
    "\n",
    "def login():\n",
    "    print(\"Sign In\")\n",
    "\n",
    "\n",
    "frame = customtkinter.CTkFrame(master=root)\n",
    "frame.pack(pady=20, padx=60, fill=\"both\", expand=True)\n",
    "\n",
    "label = customtkinter.CTkLabel(master=frame, text=\"Login System\", text_font=(\"Arial\", 24))\n",
    "label.pack(pady=12, padx=10)\n",
    "\n",
    "entry1 = customtkinter.CTkEntry(master=frame, placeholder_text=\"Username\")\n",
    "entry1.pack(pady=12, padx=10)\n",
    "entry2 = customtkinter.CTkEntry(master=frame, placeholder_text=\"Password\", show=\"*\")\n",
    "entry2.pack(pady=12, padx=10)\n",
    "\n",
    "button = customtkinter.CTkButton(master=frame, text=\"Login\", command=login)\n",
    "button.pack(pady=12, padx=10)\n",
    "\n",
    "checkbox = customtkinter.CTkCheckBox(master=frame, text=\"Remember Me\")\n",
    "checkbox.pack(padt=12, padx=10)\n",
    "\n",
    "root.mainloop()"
   ]
  },
  {
   "cell_type": "code",
   "execution_count": 3,
   "metadata": {},
   "outputs": [
    {
     "ename": "ValueError",
     "evalue": "['text_font'] are not supported arguments. Look at the documentation for supported arguments.",
     "output_type": "error",
     "traceback": [
      "\u001b[0;31m---------------------------------------------------------------------------\u001b[0m",
      "\u001b[0;31mValueError\u001b[0m                                Traceback (most recent call last)",
      "File \u001b[1;32m/Users/freestylebionicsyt/Documents/Freestyle bionics Official/Artificial intelligence/Password manager/Password_Management_GUI.py:17\u001b[0m\n\u001b[1;32m     14\u001b[0m frame \u001b[39m=\u001b[39m customtkinter\u001b[39m.\u001b[39mCTkFrame(master\u001b[39m=\u001b[39mroot)\n\u001b[1;32m     15\u001b[0m frame\u001b[39m.\u001b[39mpack(pady\u001b[39m=\u001b[39m\u001b[39m20\u001b[39m, padx\u001b[39m=\u001b[39m\u001b[39m60\u001b[39m, fill\u001b[39m=\u001b[39m\u001b[39m\"\u001b[39m\u001b[39mboth\u001b[39m\u001b[39m\"\u001b[39m, expand\u001b[39m=\u001b[39m\u001b[39mTrue\u001b[39;00m)\n\u001b[0;32m---> 17\u001b[0m label \u001b[39m=\u001b[39m customtkinter\u001b[39m.\u001b[39;49mCTkLabel(master\u001b[39m=\u001b[39;49mframe, text\u001b[39m=\u001b[39;49m\u001b[39m\"\u001b[39;49m\u001b[39mLogin System\u001b[39;49m\u001b[39m\"\u001b[39;49m, text_font\u001b[39m=\u001b[39;49m(\u001b[39m\"\u001b[39;49m\u001b[39mRoboto Mono\u001b[39;49m\u001b[39m\"\u001b[39;49m, \u001b[39m24\u001b[39;49m))\n\u001b[1;32m     18\u001b[0m label\u001b[39m.\u001b[39mpack(pady\u001b[39m=\u001b[39m\u001b[39m12\u001b[39m, padx\u001b[39m=\u001b[39m\u001b[39m10\u001b[39m)\n\u001b[1;32m     20\u001b[0m entry1 \u001b[39m=\u001b[39m customtkinter\u001b[39m.\u001b[39mCTkEntry(master\u001b[39m=\u001b[39mframe, placeholder_text\u001b[39m=\u001b[39m\u001b[39m\"\u001b[39m\u001b[39mUsername\u001b[39m\u001b[39m\"\u001b[39m)\n",
      "File \u001b[0;32m~/Documents/Freestyle bionics Official/Artificial intelligence/.venv/lib/python3.9/site-packages/customtkinter/windows/widgets/ctk_label.py:101\u001b[0m, in \u001b[0;36mCTkLabel.__init__\u001b[0;34m(self, master, width, height, corner_radius, bg_color, fg_color, text_color, text_color_disabled, text, font, image, compound, anchor, wraplength, **kwargs)\u001b[0m\n\u001b[1;32m     89\u001b[0m \u001b[39mself\u001b[39m\u001b[39m.\u001b[39m_label \u001b[39m=\u001b[39m tkinter\u001b[39m.\u001b[39mLabel(master\u001b[39m=\u001b[39m\u001b[39mself\u001b[39m,\n\u001b[1;32m     90\u001b[0m                             highlightthickness\u001b[39m=\u001b[39m\u001b[39m0\u001b[39m,\n\u001b[1;32m     91\u001b[0m                             padx\u001b[39m=\u001b[39m\u001b[39m0\u001b[39m,\n\u001b[0;32m   (...)\u001b[0m\n\u001b[1;32m     97\u001b[0m                             text\u001b[39m=\u001b[39m\u001b[39mself\u001b[39m\u001b[39m.\u001b[39m_text,\n\u001b[1;32m     98\u001b[0m                             font\u001b[39m=\u001b[39m\u001b[39mself\u001b[39m\u001b[39m.\u001b[39m_apply_font_scaling(\u001b[39mself\u001b[39m\u001b[39m.\u001b[39m_font))\n\u001b[1;32m     99\u001b[0m \u001b[39mself\u001b[39m\u001b[39m.\u001b[39m_label\u001b[39m.\u001b[39mconfigure(\u001b[39m*\u001b[39m\u001b[39m*\u001b[39mpop_from_dict_by_set(kwargs, \u001b[39mself\u001b[39m\u001b[39m.\u001b[39m_valid_tk_label_attributes))\n\u001b[0;32m--> 101\u001b[0m check_kwargs_empty(kwargs, raise_error\u001b[39m=\u001b[39;49m\u001b[39mTrue\u001b[39;49;00m)\n\u001b[1;32m    103\u001b[0m \u001b[39mself\u001b[39m\u001b[39m.\u001b[39m_create_grid()\n\u001b[1;32m    104\u001b[0m \u001b[39mself\u001b[39m\u001b[39m.\u001b[39m_update_image()\n",
      "File \u001b[0;32m~/Documents/Freestyle bionics Official/Artificial intelligence/.venv/lib/python3.9/site-packages/customtkinter/windows/widgets/utility/utility_functions.py:18\u001b[0m, in \u001b[0;36mcheck_kwargs_empty\u001b[0;34m(kwargs_dict, raise_error)\u001b[0m\n\u001b[1;32m     16\u001b[0m \u001b[39mif\u001b[39;00m \u001b[39mlen\u001b[39m(kwargs_dict) \u001b[39m>\u001b[39m \u001b[39m0\u001b[39m:\n\u001b[1;32m     17\u001b[0m     \u001b[39mif\u001b[39;00m raise_error:\n\u001b[0;32m---> 18\u001b[0m         \u001b[39mraise\u001b[39;00m \u001b[39mValueError\u001b[39;00m(\u001b[39mf\u001b[39m\u001b[39m\"\u001b[39m\u001b[39m{\u001b[39;00m\u001b[39mlist\u001b[39m(kwargs_dict\u001b[39m.\u001b[39mkeys())\u001b[39m}\u001b[39;00m\u001b[39m are not supported arguments. Look at the documentation for supported arguments.\u001b[39m\u001b[39m\"\u001b[39m)\n\u001b[1;32m     19\u001b[0m     \u001b[39melse\u001b[39;00m:\n\u001b[1;32m     20\u001b[0m         \u001b[39mreturn\u001b[39;00m \u001b[39mTrue\u001b[39;00m\n",
      "\u001b[0;31mValueError\u001b[0m: ['text_font'] are not supported arguments. Look at the documentation for supported arguments."
     ]
    }
   ],
   "source": [
    "import customtkinter\n",
    "\n",
    "customtkinter.set_appearance_mode(\"dark\")\n",
    "customtkinter.set_default_color_theme(\"dark-blue\")\n",
    "\n",
    "root = customtkinter.CTk()\n",
    "root.geometry(\"500x350\")\n",
    "\n",
    "\n",
    "def login():\n",
    "    print(\"Sign In\")\n",
    "\n",
    "\n",
    "frame = customtkinter.CTkFrame(master=root)\n",
    "frame.pack(pady=20, padx=60, fill=\"both\", expand=True)\n",
    "\n",
    "label = customtkinter.CTkLabel(master=frame, text=\"Login System\", text_font=(\"Roboto Mono\", 24))\n",
    "label.pack(pady=12, padx=10)\n",
    "\n",
    "entry1 = customtkinter.CTkEntry(master=frame, placeholder_text=\"Username\")\n",
    "entry1.pack(pady=12, padx=10)\n",
    "entry2 = customtkinter.CTkEntry(master=frame, placeholder_text=\"Password\", show=\"*\")\n",
    "entry2.pack(pady=12, padx=10)\n",
    "\n",
    "button = customtkinter.CTkButton(master=frame, text=\"Login\", command=login)\n",
    "button.pack(pady=12, padx=10)\n",
    "\n",
    "checkbox = customtkinter.CTkCheckBox(master=frame, text=\"Remember Me\")\n",
    "checkbox.pack(padt=12, padx=10)\n",
    "\n",
    "root.mainloop()"
   ]
  },
  {
   "cell_type": "code",
   "execution_count": 4,
   "metadata": {},
   "outputs": [
    {
     "ename": "ValueError",
     "evalue": "['text_font'] are not supported arguments. Look at the documentation for supported arguments.",
     "output_type": "error",
     "traceback": [
      "\u001b[0;31m---------------------------------------------------------------------------\u001b[0m",
      "\u001b[0;31mValueError\u001b[0m                                Traceback (most recent call last)",
      "File \u001b[1;32m/Users/freestylebionicsyt/Documents/Freestyle bionics Official/Artificial intelligence/Password manager/Password_Management_GUI.py:18\u001b[0m\n\u001b[1;32m     15\u001b[0m frame \u001b[39m=\u001b[39m customtkinter\u001b[39m.\u001b[39mCTkFrame(master\u001b[39m=\u001b[39mroot)\n\u001b[1;32m     16\u001b[0m frame\u001b[39m.\u001b[39mpack(pady\u001b[39m=\u001b[39m\u001b[39m20\u001b[39m, padx\u001b[39m=\u001b[39m\u001b[39m60\u001b[39m, fill\u001b[39m=\u001b[39m\u001b[39m\"\u001b[39m\u001b[39mboth\u001b[39m\u001b[39m\"\u001b[39m, expand\u001b[39m=\u001b[39m\u001b[39mTrue\u001b[39;00m)\n\u001b[0;32m---> 18\u001b[0m label \u001b[39m=\u001b[39m customtkinter\u001b[39m.\u001b[39;49mCTkLabel(master\u001b[39m=\u001b[39;49mframe, text\u001b[39m=\u001b[39;49m\u001b[39m\"\u001b[39;49m\u001b[39mLogin System\u001b[39;49m\u001b[39m\"\u001b[39;49m, text_font\u001b[39m=\u001b[39;49m(\u001b[39m\"\u001b[39;49m\u001b[39mRoboto Mono\u001b[39;49m\u001b[39m\"\u001b[39;49m, \u001b[39m24\u001b[39;49m))\n\u001b[1;32m     19\u001b[0m label\u001b[39m.\u001b[39mpack(pady\u001b[39m=\u001b[39m\u001b[39m12\u001b[39m, padx\u001b[39m=\u001b[39m\u001b[39m10\u001b[39m)\n\u001b[1;32m     21\u001b[0m entry1 \u001b[39m=\u001b[39m customtkinter\u001b[39m.\u001b[39mCTkEntry(master\u001b[39m=\u001b[39mframe, placeholder_text\u001b[39m=\u001b[39m\u001b[39m\"\u001b[39m\u001b[39mUsername\u001b[39m\u001b[39m\"\u001b[39m)\n",
      "File \u001b[0;32m~/Documents/Freestyle bionics Official/Artificial intelligence/.venv/lib/python3.9/site-packages/customtkinter/windows/widgets/ctk_label.py:101\u001b[0m, in \u001b[0;36mCTkLabel.__init__\u001b[0;34m(self, master, width, height, corner_radius, bg_color, fg_color, text_color, text_color_disabled, text, font, image, compound, anchor, wraplength, **kwargs)\u001b[0m\n\u001b[1;32m     89\u001b[0m \u001b[39mself\u001b[39m\u001b[39m.\u001b[39m_label \u001b[39m=\u001b[39m tkinter\u001b[39m.\u001b[39mLabel(master\u001b[39m=\u001b[39m\u001b[39mself\u001b[39m,\n\u001b[1;32m     90\u001b[0m                             highlightthickness\u001b[39m=\u001b[39m\u001b[39m0\u001b[39m,\n\u001b[1;32m     91\u001b[0m                             padx\u001b[39m=\u001b[39m\u001b[39m0\u001b[39m,\n\u001b[0;32m   (...)\u001b[0m\n\u001b[1;32m     97\u001b[0m                             text\u001b[39m=\u001b[39m\u001b[39mself\u001b[39m\u001b[39m.\u001b[39m_text,\n\u001b[1;32m     98\u001b[0m                             font\u001b[39m=\u001b[39m\u001b[39mself\u001b[39m\u001b[39m.\u001b[39m_apply_font_scaling(\u001b[39mself\u001b[39m\u001b[39m.\u001b[39m_font))\n\u001b[1;32m     99\u001b[0m \u001b[39mself\u001b[39m\u001b[39m.\u001b[39m_label\u001b[39m.\u001b[39mconfigure(\u001b[39m*\u001b[39m\u001b[39m*\u001b[39mpop_from_dict_by_set(kwargs, \u001b[39mself\u001b[39m\u001b[39m.\u001b[39m_valid_tk_label_attributes))\n\u001b[0;32m--> 101\u001b[0m check_kwargs_empty(kwargs, raise_error\u001b[39m=\u001b[39;49m\u001b[39mTrue\u001b[39;49;00m)\n\u001b[1;32m    103\u001b[0m \u001b[39mself\u001b[39m\u001b[39m.\u001b[39m_create_grid()\n\u001b[1;32m    104\u001b[0m \u001b[39mself\u001b[39m\u001b[39m.\u001b[39m_update_image()\n",
      "File \u001b[0;32m~/Documents/Freestyle bionics Official/Artificial intelligence/.venv/lib/python3.9/site-packages/customtkinter/windows/widgets/utility/utility_functions.py:18\u001b[0m, in \u001b[0;36mcheck_kwargs_empty\u001b[0;34m(kwargs_dict, raise_error)\u001b[0m\n\u001b[1;32m     16\u001b[0m \u001b[39mif\u001b[39;00m \u001b[39mlen\u001b[39m(kwargs_dict) \u001b[39m>\u001b[39m \u001b[39m0\u001b[39m:\n\u001b[1;32m     17\u001b[0m     \u001b[39mif\u001b[39;00m raise_error:\n\u001b[0;32m---> 18\u001b[0m         \u001b[39mraise\u001b[39;00m \u001b[39mValueError\u001b[39;00m(\u001b[39mf\u001b[39m\u001b[39m\"\u001b[39m\u001b[39m{\u001b[39;00m\u001b[39mlist\u001b[39m(kwargs_dict\u001b[39m.\u001b[39mkeys())\u001b[39m}\u001b[39;00m\u001b[39m are not supported arguments. Look at the documentation for supported arguments.\u001b[39m\u001b[39m\"\u001b[39m)\n\u001b[1;32m     19\u001b[0m     \u001b[39melse\u001b[39;00m:\n\u001b[1;32m     20\u001b[0m         \u001b[39mreturn\u001b[39;00m \u001b[39mTrue\u001b[39;00m\n",
      "\u001b[0;31mValueError\u001b[0m: ['text_font'] are not supported arguments. Look at the documentation for supported arguments."
     ]
    }
   ],
   "source": [
    "import customtkinter\n",
    "import tkinter.font\n",
    "\n",
    "customtkinter.set_appearance_mode(\"dark\")\n",
    "customtkinter.set_default_color_theme(\"dark-blue\")\n",
    "\n",
    "root = customtkinter.CTk()\n",
    "root.geometry(\"500x350\")\n",
    "\n",
    "\n",
    "def login():\n",
    "    print(\"Sign In\")\n",
    "\n",
    "\n",
    "frame = customtkinter.CTkFrame(master=root)\n",
    "frame.pack(pady=20, padx=60, fill=\"both\", expand=True)\n",
    "\n",
    "label = customtkinter.CTkLabel(master=frame, text=\"Login System\", text_font=(\"Roboto Mono\", 24))\n",
    "label.pack(pady=12, padx=10)\n",
    "\n",
    "entry1 = customtkinter.CTkEntry(master=frame, placeholder_text=\"Username\")\n",
    "entry1.pack(pady=12, padx=10)\n",
    "entry2 = customtkinter.CTkEntry(master=frame, placeholder_text=\"Password\", show=\"*\")\n",
    "entry2.pack(pady=12, padx=10)\n",
    "\n",
    "button = customtkinter.CTkButton(master=frame, text=\"Login\", command=login)\n",
    "button.pack(pady=12, padx=10)\n",
    "\n",
    "checkbox = customtkinter.CTkCheckBox(master=frame, text=\"Remember Me\")\n",
    "checkbox.pack(padt=12, padx=10)\n",
    "\n",
    "root.mainloop()"
   ]
  },
  {
   "cell_type": "code",
   "execution_count": 5,
   "metadata": {},
   "outputs": [
    {
     "ename": "ValueError",
     "evalue": "['text_font'] are not supported arguments. Look at the documentation for supported arguments.",
     "output_type": "error",
     "traceback": [
      "\u001b[0;31m---------------------------------------------------------------------------\u001b[0m",
      "\u001b[0;31mValueError\u001b[0m                                Traceback (most recent call last)",
      "File \u001b[1;32m/Users/freestylebionicsyt/Documents/Freestyle bionics Official/Artificial intelligence/Password manager/Password_Management_GUI.py:18\u001b[0m\n\u001b[1;32m     15\u001b[0m frame \u001b[39m=\u001b[39m customtkinter\u001b[39m.\u001b[39mCTkFrame(master\u001b[39m=\u001b[39mroot)\n\u001b[1;32m     16\u001b[0m frame\u001b[39m.\u001b[39mpack(pady\u001b[39m=\u001b[39m\u001b[39m20\u001b[39m, padx\u001b[39m=\u001b[39m\u001b[39m60\u001b[39m, fill\u001b[39m=\u001b[39m\u001b[39m\"\u001b[39m\u001b[39mboth\u001b[39m\u001b[39m\"\u001b[39m, expand\u001b[39m=\u001b[39m\u001b[39mTrue\u001b[39;00m)\n\u001b[0;32m---> 18\u001b[0m label \u001b[39m=\u001b[39m customtkinter\u001b[39m.\u001b[39;49mCTkLabel(master\u001b[39m=\u001b[39;49mframe, text\u001b[39m=\u001b[39;49m\u001b[39m\"\u001b[39;49m\u001b[39mLogin System\u001b[39;49m\u001b[39m\"\u001b[39;49m, text_font\u001b[39m=\u001b[39;49m(\u001b[39m\"\u001b[39;49m\u001b[39mRoboto Mono\u001b[39;49m\u001b[39m\"\u001b[39;49m, \u001b[39m24\u001b[39;49m))\n\u001b[1;32m     19\u001b[0m label\u001b[39m.\u001b[39mpack(pady\u001b[39m=\u001b[39m\u001b[39m12\u001b[39m, padx\u001b[39m=\u001b[39m\u001b[39m10\u001b[39m)\n\u001b[1;32m     21\u001b[0m entry1 \u001b[39m=\u001b[39m customtkinter\u001b[39m.\u001b[39mCTkEntry(master\u001b[39m=\u001b[39mframe, placeholder_text\u001b[39m=\u001b[39m\u001b[39m\"\u001b[39m\u001b[39mUsername\u001b[39m\u001b[39m\"\u001b[39m)\n",
      "File \u001b[0;32m~/Documents/Freestyle bionics Official/Artificial intelligence/.venv/lib/python3.9/site-packages/customtkinter/windows/widgets/ctk_label.py:101\u001b[0m, in \u001b[0;36mCTkLabel.__init__\u001b[0;34m(self, master, width, height, corner_radius, bg_color, fg_color, text_color, text_color_disabled, text, font, image, compound, anchor, wraplength, **kwargs)\u001b[0m\n\u001b[1;32m     89\u001b[0m \u001b[39mself\u001b[39m\u001b[39m.\u001b[39m_label \u001b[39m=\u001b[39m tkinter\u001b[39m.\u001b[39mLabel(master\u001b[39m=\u001b[39m\u001b[39mself\u001b[39m,\n\u001b[1;32m     90\u001b[0m                             highlightthickness\u001b[39m=\u001b[39m\u001b[39m0\u001b[39m,\n\u001b[1;32m     91\u001b[0m                             padx\u001b[39m=\u001b[39m\u001b[39m0\u001b[39m,\n\u001b[0;32m   (...)\u001b[0m\n\u001b[1;32m     97\u001b[0m                             text\u001b[39m=\u001b[39m\u001b[39mself\u001b[39m\u001b[39m.\u001b[39m_text,\n\u001b[1;32m     98\u001b[0m                             font\u001b[39m=\u001b[39m\u001b[39mself\u001b[39m\u001b[39m.\u001b[39m_apply_font_scaling(\u001b[39mself\u001b[39m\u001b[39m.\u001b[39m_font))\n\u001b[1;32m     99\u001b[0m \u001b[39mself\u001b[39m\u001b[39m.\u001b[39m_label\u001b[39m.\u001b[39mconfigure(\u001b[39m*\u001b[39m\u001b[39m*\u001b[39mpop_from_dict_by_set(kwargs, \u001b[39mself\u001b[39m\u001b[39m.\u001b[39m_valid_tk_label_attributes))\n\u001b[0;32m--> 101\u001b[0m check_kwargs_empty(kwargs, raise_error\u001b[39m=\u001b[39;49m\u001b[39mTrue\u001b[39;49;00m)\n\u001b[1;32m    103\u001b[0m \u001b[39mself\u001b[39m\u001b[39m.\u001b[39m_create_grid()\n\u001b[1;32m    104\u001b[0m \u001b[39mself\u001b[39m\u001b[39m.\u001b[39m_update_image()\n",
      "File \u001b[0;32m~/Documents/Freestyle bionics Official/Artificial intelligence/.venv/lib/python3.9/site-packages/customtkinter/windows/widgets/utility/utility_functions.py:18\u001b[0m, in \u001b[0;36mcheck_kwargs_empty\u001b[0;34m(kwargs_dict, raise_error)\u001b[0m\n\u001b[1;32m     16\u001b[0m \u001b[39mif\u001b[39;00m \u001b[39mlen\u001b[39m(kwargs_dict) \u001b[39m>\u001b[39m \u001b[39m0\u001b[39m:\n\u001b[1;32m     17\u001b[0m     \u001b[39mif\u001b[39;00m raise_error:\n\u001b[0;32m---> 18\u001b[0m         \u001b[39mraise\u001b[39;00m \u001b[39mValueError\u001b[39;00m(\u001b[39mf\u001b[39m\u001b[39m\"\u001b[39m\u001b[39m{\u001b[39;00m\u001b[39mlist\u001b[39m(kwargs_dict\u001b[39m.\u001b[39mkeys())\u001b[39m}\u001b[39;00m\u001b[39m are not supported arguments. Look at the documentation for supported arguments.\u001b[39m\u001b[39m\"\u001b[39m)\n\u001b[1;32m     19\u001b[0m     \u001b[39melse\u001b[39;00m:\n\u001b[1;32m     20\u001b[0m         \u001b[39mreturn\u001b[39;00m \u001b[39mTrue\u001b[39;00m\n",
      "\u001b[0;31mValueError\u001b[0m: ['text_font'] are not supported arguments. Look at the documentation for supported arguments."
     ]
    }
   ],
   "source": [
    "import customtkinter\n",
    "import tkinter.font\n",
    "\n",
    "customtkinter.set_appearance_mode(\"dark\")\n",
    "customtkinter.set_default_color_theme(\"dark-blue\")\n",
    "\n",
    "root = customtkinter.CTk()\n",
    "root.geometry(\"500x350\")\n",
    "\n",
    "\n",
    "def login():\n",
    "    print(\"Sign In\")\n",
    "\n",
    "\n",
    "frame = customtkinter.CTkFrame(master=root)\n",
    "frame.pack(pady=20, padx=60, fill=\"both\", expand=True)\n",
    "\n",
    "label = customtkinter.CTkLabel(master=frame, text=\"Login System\", text_font=(\"Roboto Mono\", 24))\n",
    "label.pack(pady=12, padx=10)\n",
    "\n",
    "entry1 = customtkinter.CTkEntry(master=frame, placeholder_text=\"Username\")\n",
    "entry1.pack(pady=12, padx=10)\n",
    "entry2 = customtkinter.CTkEntry(master=frame, placeholder_text=\"Password\", show=\"*\")\n",
    "entry2.pack(pady=12, padx=10)\n",
    "\n",
    "button = customtkinter.CTkButton(master=frame, text=\"Login\", command=login)\n",
    "button.pack(pady=12, padx=10)\n",
    "\n",
    "checkbox = customtkinter.CTkCheckBox(master=frame, text=\"Remember Me\")\n",
    "checkbox.pack(padt=12, padx=10)\n",
    "\n",
    "root.mainloop()"
   ]
  },
  {
   "cell_type": "code",
   "execution_count": null,
   "metadata": {},
   "outputs": [
    {
     "ename": "",
     "evalue": "",
     "output_type": "error",
     "traceback": [
      "\u001b[1;31mCell was canceled due to an error in a previous cell."
     ]
    }
   ],
   "source": [
    "import customtkinter\n",
    "import tkinter.font\n",
    "\n",
    "customtkinter.set_appearance_mode(\"dark\")\n",
    "customtkinter.set_default_color_theme(\"dark-blue\")\n",
    "\n",
    "root = customtkinter.CTk()\n",
    "root.geometry(\"500x350\")\n",
    "\n",
    "\n",
    "def login():\n",
    "    print(\"Sign In\")\n",
    "\n",
    "\n",
    "frame = customtkinter.CTkFrame(master=root)\n",
    "frame.pack(pady=20, padx=60, fill=\"both\", expand=True)\n",
    "\n",
    "label = customtkinter.CTkLabel(master=frame, text=\"Login System\", text_font=(\"Roboto Mono\", 24))\n",
    "label.pack(pady=12, padx=10)\n",
    "\n",
    "entry1 = customtkinter.CTkEntry(master=frame, placeholder_text=\"Username\")\n",
    "entry1.pack(pady=12, padx=10)\n",
    "entry2 = customtkinter.CTkEntry(master=frame, placeholder_text=\"Password\", show=\"*\")\n",
    "entry2.pack(pady=12, padx=10)\n",
    "\n",
    "button = customtkinter.CTkButton(master=frame, text=\"Login\", command=login)\n",
    "button.pack(pady=12, padx=10)\n",
    "\n",
    "checkbox = customtkinter.CTkCheckBox(master=frame, text=\"Remember Me\")\n",
    "checkbox.pack(padt=12, padx=10)\n",
    "\n",
    "root.mainloop()"
   ]
  },
  {
   "cell_type": "code",
   "execution_count": 6,
   "metadata": {},
   "outputs": [
    {
     "ename": "ValueError",
     "evalue": "['text_font'] are not supported arguments. Look at the documentation for supported arguments.",
     "output_type": "error",
     "traceback": [
      "\u001b[0;31m---------------------------------------------------------------------------\u001b[0m",
      "\u001b[0;31mValueError\u001b[0m                                Traceback (most recent call last)",
      "File \u001b[1;32m/Users/freestylebionicsyt/Documents/Freestyle bionics Official/Artificial intelligence/Password manager/Password_Management_GUI.py:18\u001b[0m\n\u001b[1;32m     15\u001b[0m frame \u001b[39m=\u001b[39m customtkinter\u001b[39m.\u001b[39mCTkFrame(master\u001b[39m=\u001b[39mroot)\n\u001b[1;32m     16\u001b[0m frame\u001b[39m.\u001b[39mpack(pady\u001b[39m=\u001b[39m\u001b[39m20\u001b[39m, padx\u001b[39m=\u001b[39m\u001b[39m60\u001b[39m, fill\u001b[39m=\u001b[39m\u001b[39m\"\u001b[39m\u001b[39mboth\u001b[39m\u001b[39m\"\u001b[39m, expand\u001b[39m=\u001b[39m\u001b[39mTrue\u001b[39;00m)\n\u001b[0;32m---> 18\u001b[0m label \u001b[39m=\u001b[39m customtkinter\u001b[39m.\u001b[39;49mCTkLabel(master\u001b[39m=\u001b[39;49mframe, text\u001b[39m=\u001b[39;49m\u001b[39m\"\u001b[39;49m\u001b[39mLogin System\u001b[39;49m\u001b[39m\"\u001b[39;49m, text_font\u001b[39m=\u001b[39;49m(\u001b[39m\"\u001b[39;49m\u001b[39mCourier New\u001b[39;49m\u001b[39m\"\u001b[39;49m, \u001b[39m24\u001b[39;49m))\n\u001b[1;32m     19\u001b[0m label\u001b[39m.\u001b[39mpack(pady\u001b[39m=\u001b[39m\u001b[39m12\u001b[39m, padx\u001b[39m=\u001b[39m\u001b[39m10\u001b[39m)\n\u001b[1;32m     21\u001b[0m entry1 \u001b[39m=\u001b[39m customtkinter\u001b[39m.\u001b[39mCTkEntry(master\u001b[39m=\u001b[39mframe, placeholder_text\u001b[39m=\u001b[39m\u001b[39m\"\u001b[39m\u001b[39mUsername\u001b[39m\u001b[39m\"\u001b[39m)\n",
      "File \u001b[0;32m~/Documents/Freestyle bionics Official/Artificial intelligence/.venv/lib/python3.9/site-packages/customtkinter/windows/widgets/ctk_label.py:101\u001b[0m, in \u001b[0;36mCTkLabel.__init__\u001b[0;34m(self, master, width, height, corner_radius, bg_color, fg_color, text_color, text_color_disabled, text, font, image, compound, anchor, wraplength, **kwargs)\u001b[0m\n\u001b[1;32m     89\u001b[0m \u001b[39mself\u001b[39m\u001b[39m.\u001b[39m_label \u001b[39m=\u001b[39m tkinter\u001b[39m.\u001b[39mLabel(master\u001b[39m=\u001b[39m\u001b[39mself\u001b[39m,\n\u001b[1;32m     90\u001b[0m                             highlightthickness\u001b[39m=\u001b[39m\u001b[39m0\u001b[39m,\n\u001b[1;32m     91\u001b[0m                             padx\u001b[39m=\u001b[39m\u001b[39m0\u001b[39m,\n\u001b[0;32m   (...)\u001b[0m\n\u001b[1;32m     97\u001b[0m                             text\u001b[39m=\u001b[39m\u001b[39mself\u001b[39m\u001b[39m.\u001b[39m_text,\n\u001b[1;32m     98\u001b[0m                             font\u001b[39m=\u001b[39m\u001b[39mself\u001b[39m\u001b[39m.\u001b[39m_apply_font_scaling(\u001b[39mself\u001b[39m\u001b[39m.\u001b[39m_font))\n\u001b[1;32m     99\u001b[0m \u001b[39mself\u001b[39m\u001b[39m.\u001b[39m_label\u001b[39m.\u001b[39mconfigure(\u001b[39m*\u001b[39m\u001b[39m*\u001b[39mpop_from_dict_by_set(kwargs, \u001b[39mself\u001b[39m\u001b[39m.\u001b[39m_valid_tk_label_attributes))\n\u001b[0;32m--> 101\u001b[0m check_kwargs_empty(kwargs, raise_error\u001b[39m=\u001b[39;49m\u001b[39mTrue\u001b[39;49;00m)\n\u001b[1;32m    103\u001b[0m \u001b[39mself\u001b[39m\u001b[39m.\u001b[39m_create_grid()\n\u001b[1;32m    104\u001b[0m \u001b[39mself\u001b[39m\u001b[39m.\u001b[39m_update_image()\n",
      "File \u001b[0;32m~/Documents/Freestyle bionics Official/Artificial intelligence/.venv/lib/python3.9/site-packages/customtkinter/windows/widgets/utility/utility_functions.py:18\u001b[0m, in \u001b[0;36mcheck_kwargs_empty\u001b[0;34m(kwargs_dict, raise_error)\u001b[0m\n\u001b[1;32m     16\u001b[0m \u001b[39mif\u001b[39;00m \u001b[39mlen\u001b[39m(kwargs_dict) \u001b[39m>\u001b[39m \u001b[39m0\u001b[39m:\n\u001b[1;32m     17\u001b[0m     \u001b[39mif\u001b[39;00m raise_error:\n\u001b[0;32m---> 18\u001b[0m         \u001b[39mraise\u001b[39;00m \u001b[39mValueError\u001b[39;00m(\u001b[39mf\u001b[39m\u001b[39m\"\u001b[39m\u001b[39m{\u001b[39;00m\u001b[39mlist\u001b[39m(kwargs_dict\u001b[39m.\u001b[39mkeys())\u001b[39m}\u001b[39;00m\u001b[39m are not supported arguments. Look at the documentation for supported arguments.\u001b[39m\u001b[39m\"\u001b[39m)\n\u001b[1;32m     19\u001b[0m     \u001b[39melse\u001b[39;00m:\n\u001b[1;32m     20\u001b[0m         \u001b[39mreturn\u001b[39;00m \u001b[39mTrue\u001b[39;00m\n",
      "\u001b[0;31mValueError\u001b[0m: ['text_font'] are not supported arguments. Look at the documentation for supported arguments."
     ]
    }
   ],
   "source": [
    "import customtkinter\n",
    "import tkinter.font\n",
    "\n",
    "customtkinter.set_appearance_mode(\"dark\")\n",
    "customtkinter.set_default_color_theme(\"dark-blue\")\n",
    "\n",
    "root = customtkinter.CTk()\n",
    "root.geometry(\"500x350\")\n",
    "\n",
    "\n",
    "def login():\n",
    "    print(\"Sign In\")\n",
    "\n",
    "\n",
    "frame = customtkinter.CTkFrame(master=root)\n",
    "frame.pack(pady=20, padx=60, fill=\"both\", expand=True)\n",
    "\n",
    "label = customtkinter.CTkLabel(master=frame, text=\"Login System\", text_font=(\"Courier New\", 24))\n",
    "label.pack(pady=12, padx=10)\n",
    "\n",
    "entry1 = customtkinter.CTkEntry(master=frame, placeholder_text=\"Username\")\n",
    "entry1.pack(pady=12, padx=10)\n",
    "entry2 = customtkinter.CTkEntry(master=frame, placeholder_text=\"Password\", show=\"*\")\n",
    "entry2.pack(pady=12, padx=10)\n",
    "\n",
    "button = customtkinter.CTkButton(master=frame, text=\"Login\", command=login)\n",
    "button.pack(pady=12, padx=10)\n",
    "\n",
    "checkbox = customtkinter.CTkCheckBox(master=frame, text=\"Remember Me\")\n",
    "checkbox.pack(padt=12, padx=10)\n",
    "\n",
    "root.mainloop()"
   ]
  },
  {
   "cell_type": "code",
   "execution_count": 7,
   "metadata": {},
   "outputs": [
    {
     "ename": "TclError",
     "evalue": "bad option \"-padt\": must be -after, -anchor, -before, -expand, -fill, -in, -ipadx, -ipady, -padx, -pady, or -side",
     "output_type": "error",
     "traceback": [
      "\u001b[0;31m---------------------------------------------------------------------------\u001b[0m",
      "\u001b[0;31mTclError\u001b[0m                                  Traceback (most recent call last)",
      "File \u001b[1;32m/Users/freestylebionicsyt/Documents/Freestyle bionics Official/Artificial intelligence/Password manager/Password_Management_GUI.py:30\u001b[0m\n\u001b[1;32m     27\u001b[0m button\u001b[39m.\u001b[39mpack(pady\u001b[39m=\u001b[39m\u001b[39m12\u001b[39m, padx\u001b[39m=\u001b[39m\u001b[39m10\u001b[39m)\n\u001b[1;32m     29\u001b[0m checkbox \u001b[39m=\u001b[39m customtkinter\u001b[39m.\u001b[39mCTkCheckBox(master\u001b[39m=\u001b[39mframe, text\u001b[39m=\u001b[39m\u001b[39m\"\u001b[39m\u001b[39mRemember Me\u001b[39m\u001b[39m\"\u001b[39m)\n\u001b[0;32m---> 30\u001b[0m checkbox\u001b[39m.\u001b[39;49mpack(padt\u001b[39m=\u001b[39;49m\u001b[39m12\u001b[39;49m, padx\u001b[39m=\u001b[39;49m\u001b[39m10\u001b[39;49m)\n\u001b[1;32m     32\u001b[0m root\u001b[39m.\u001b[39mmainloop()\n",
      "File \u001b[0;32m~/Documents/Freestyle bionics Official/Artificial intelligence/.venv/lib/python3.9/site-packages/customtkinter/windows/widgets/core_widget_classes/ctk_base_class.py:298\u001b[0m, in \u001b[0;36mCTkBaseClass.pack\u001b[0;34m(self, **kwargs)\u001b[0m\n\u001b[1;32m    282\u001b[0m \u001b[39m\u001b[39m\u001b[39m\"\"\"\u001b[39;00m\n\u001b[1;32m    283\u001b[0m \u001b[39mPack a widget in the parent widget. Use as options:\u001b[39;00m\n\u001b[1;32m    284\u001b[0m \u001b[39mafter=widget - pack it after you have packed widget\u001b[39;00m\n\u001b[0;32m   (...)\u001b[0m\n\u001b[1;32m    295\u001b[0m \u001b[39mside=TOP or BOTTOM or LEFT or RIGHT -  where to add this widget.\u001b[39;00m\n\u001b[1;32m    296\u001b[0m \u001b[39m\"\"\"\u001b[39;00m\n\u001b[1;32m    297\u001b[0m \u001b[39mself\u001b[39m\u001b[39m.\u001b[39m_last_geometry_manager_call \u001b[39m=\u001b[39m {\u001b[39m\"\u001b[39m\u001b[39mfunction\u001b[39m\u001b[39m\"\u001b[39m: \u001b[39msuper\u001b[39m()\u001b[39m.\u001b[39mpack, \u001b[39m\"\u001b[39m\u001b[39mkwargs\u001b[39m\u001b[39m\"\u001b[39m: kwargs}\n\u001b[0;32m--> 298\u001b[0m \u001b[39mreturn\u001b[39;00m \u001b[39msuper\u001b[39;49m()\u001b[39m.\u001b[39;49mpack(\u001b[39m*\u001b[39;49m\u001b[39m*\u001b[39;49m\u001b[39mself\u001b[39;49m\u001b[39m.\u001b[39;49m_apply_argument_scaling(kwargs))\n",
      "File \u001b[0;32m/Applications/Xcode.app/Contents/Developer/Library/Frameworks/Python3.framework/Versions/3.9/lib/python3.9/tkinter/__init__.py:2396\u001b[0m, in \u001b[0;36mPack.pack_configure\u001b[0;34m(self, cnf, **kw)\u001b[0m\n\u001b[1;32m   2380\u001b[0m \u001b[39mdef\u001b[39;00m \u001b[39mpack_configure\u001b[39m(\u001b[39mself\u001b[39m, cnf\u001b[39m=\u001b[39m{}, \u001b[39m*\u001b[39m\u001b[39m*\u001b[39mkw):\n\u001b[1;32m   2381\u001b[0m \u001b[39m    \u001b[39m\u001b[39m\"\"\"Pack a widget in the parent widget. Use as options:\u001b[39;00m\n\u001b[1;32m   2382\u001b[0m \u001b[39m    after=widget - pack it after you have packed widget\u001b[39;00m\n\u001b[1;32m   2383\u001b[0m \u001b[39m    anchor=NSEW (or subset) - position widget according to\u001b[39;00m\n\u001b[0;32m   (...)\u001b[0m\n\u001b[1;32m   2394\u001b[0m \u001b[39m    side=TOP or BOTTOM or LEFT or RIGHT -  where to add this widget.\u001b[39;00m\n\u001b[1;32m   2395\u001b[0m \u001b[39m    \"\"\"\u001b[39;00m\n\u001b[0;32m-> 2396\u001b[0m     \u001b[39mself\u001b[39;49m\u001b[39m.\u001b[39;49mtk\u001b[39m.\u001b[39;49mcall(\n\u001b[1;32m   2397\u001b[0m           (\u001b[39m'\u001b[39;49m\u001b[39mpack\u001b[39;49m\u001b[39m'\u001b[39;49m, \u001b[39m'\u001b[39;49m\u001b[39mconfigure\u001b[39;49m\u001b[39m'\u001b[39;49m, \u001b[39mself\u001b[39;49m\u001b[39m.\u001b[39;49m_w)\n\u001b[1;32m   2398\u001b[0m           \u001b[39m+\u001b[39;49m \u001b[39mself\u001b[39;49m\u001b[39m.\u001b[39;49m_options(cnf, kw))\n",
      "\u001b[0;31mTclError\u001b[0m: bad option \"-padt\": must be -after, -anchor, -before, -expand, -fill, -in, -ipadx, -ipady, -padx, -pady, or -side"
     ]
    }
   ],
   "source": [
    "import customtkinter\n",
    "import tkinter.font\n",
    "\n",
    "customtkinter.set_appearance_mode(\"dark\")\n",
    "customtkinter.set_default_color_theme(\"dark-blue\")\n",
    "\n",
    "root = customtkinter.CTk()\n",
    "root.geometry(\"500x350\")\n",
    "\n",
    "\n",
    "def login():\n",
    "    print(\"Sign In\")\n",
    "\n",
    "\n",
    "frame = customtkinter.CTkFrame(master=root)\n",
    "frame.pack(pady=20, padx=60, fill=\"both\", expand=True)\n",
    "\n",
    "label = customtkinter.CTkLabel(master=frame, text=\"Login System\")\n",
    "label.pack(pady=12, padx=10)\n",
    "\n",
    "entry1 = customtkinter.CTkEntry(master=frame, placeholder_text=\"Username\")\n",
    "entry1.pack(pady=12, padx=10)\n",
    "entry2 = customtkinter.CTkEntry(master=frame, placeholder_text=\"Password\", show=\"*\")\n",
    "entry2.pack(pady=12, padx=10)\n",
    "\n",
    "button = customtkinter.CTkButton(master=frame, text=\"Login\", command=login)\n",
    "button.pack(pady=12, padx=10)\n",
    "\n",
    "checkbox = customtkinter.CTkCheckBox(master=frame, text=\"Remember Me\")\n",
    "checkbox.pack(padt=12, padx=10)\n",
    "\n",
    "root.mainloop()"
   ]
  },
  {
   "cell_type": "code",
   "execution_count": 8,
   "metadata": {},
   "outputs": [
    {
     "ename": "ValueError",
     "evalue": "['text_font'] are not supported arguments. Look at the documentation for supported arguments.",
     "output_type": "error",
     "traceback": [
      "\u001b[0;31m---------------------------------------------------------------------------\u001b[0m",
      "\u001b[0;31mValueError\u001b[0m                                Traceback (most recent call last)",
      "File \u001b[1;32m/Users/freestylebionicsyt/Documents/Freestyle bionics Official/Artificial intelligence/Password manager/Password_Management_GUI.py:18\u001b[0m\n\u001b[1;32m     15\u001b[0m frame \u001b[39m=\u001b[39m customtkinter\u001b[39m.\u001b[39mCTkFrame(master\u001b[39m=\u001b[39mroot)\n\u001b[1;32m     16\u001b[0m frame\u001b[39m.\u001b[39mpack(pady\u001b[39m=\u001b[39m\u001b[39m20\u001b[39m, padx\u001b[39m=\u001b[39m\u001b[39m60\u001b[39m, fill\u001b[39m=\u001b[39m\u001b[39m\"\u001b[39m\u001b[39mboth\u001b[39m\u001b[39m\"\u001b[39m, expand\u001b[39m=\u001b[39m\u001b[39mTrue\u001b[39;00m)\n\u001b[0;32m---> 18\u001b[0m label \u001b[39m=\u001b[39m customtkinter\u001b[39m.\u001b[39;49mCTkLabel(master\u001b[39m=\u001b[39;49mframe, text\u001b[39m=\u001b[39;49m\u001b[39m\"\u001b[39;49m\u001b[39mLogin System\u001b[39;49m\u001b[39m\"\u001b[39;49m, text_font\u001b[39m=\u001b[39;49m(\u001b[39m\"\u001b[39;49m\u001b[39mCourier New\u001b[39;49m\u001b[39m\"\u001b[39;49m, \u001b[39m24\u001b[39;49m))\n\u001b[1;32m     19\u001b[0m label\u001b[39m.\u001b[39mpack(pady\u001b[39m=\u001b[39m\u001b[39m12\u001b[39m, padx\u001b[39m=\u001b[39m\u001b[39m10\u001b[39m)\n\u001b[1;32m     21\u001b[0m entry1 \u001b[39m=\u001b[39m customtkinter\u001b[39m.\u001b[39mCTkEntry(master\u001b[39m=\u001b[39mframe, placeholder_text\u001b[39m=\u001b[39m\u001b[39m\"\u001b[39m\u001b[39mUsername\u001b[39m\u001b[39m\"\u001b[39m)\n",
      "File \u001b[0;32m~/Documents/Freestyle bionics Official/Artificial intelligence/.venv/lib/python3.9/site-packages/customtkinter/windows/widgets/ctk_label.py:101\u001b[0m, in \u001b[0;36mCTkLabel.__init__\u001b[0;34m(self, master, width, height, corner_radius, bg_color, fg_color, text_color, text_color_disabled, text, font, image, compound, anchor, wraplength, **kwargs)\u001b[0m\n\u001b[1;32m     89\u001b[0m \u001b[39mself\u001b[39m\u001b[39m.\u001b[39m_label \u001b[39m=\u001b[39m tkinter\u001b[39m.\u001b[39mLabel(master\u001b[39m=\u001b[39m\u001b[39mself\u001b[39m,\n\u001b[1;32m     90\u001b[0m                             highlightthickness\u001b[39m=\u001b[39m\u001b[39m0\u001b[39m,\n\u001b[1;32m     91\u001b[0m                             padx\u001b[39m=\u001b[39m\u001b[39m0\u001b[39m,\n\u001b[0;32m   (...)\u001b[0m\n\u001b[1;32m     97\u001b[0m                             text\u001b[39m=\u001b[39m\u001b[39mself\u001b[39m\u001b[39m.\u001b[39m_text,\n\u001b[1;32m     98\u001b[0m                             font\u001b[39m=\u001b[39m\u001b[39mself\u001b[39m\u001b[39m.\u001b[39m_apply_font_scaling(\u001b[39mself\u001b[39m\u001b[39m.\u001b[39m_font))\n\u001b[1;32m     99\u001b[0m \u001b[39mself\u001b[39m\u001b[39m.\u001b[39m_label\u001b[39m.\u001b[39mconfigure(\u001b[39m*\u001b[39m\u001b[39m*\u001b[39mpop_from_dict_by_set(kwargs, \u001b[39mself\u001b[39m\u001b[39m.\u001b[39m_valid_tk_label_attributes))\n\u001b[0;32m--> 101\u001b[0m check_kwargs_empty(kwargs, raise_error\u001b[39m=\u001b[39;49m\u001b[39mTrue\u001b[39;49;00m)\n\u001b[1;32m    103\u001b[0m \u001b[39mself\u001b[39m\u001b[39m.\u001b[39m_create_grid()\n\u001b[1;32m    104\u001b[0m \u001b[39mself\u001b[39m\u001b[39m.\u001b[39m_update_image()\n",
      "File \u001b[0;32m~/Documents/Freestyle bionics Official/Artificial intelligence/.venv/lib/python3.9/site-packages/customtkinter/windows/widgets/utility/utility_functions.py:18\u001b[0m, in \u001b[0;36mcheck_kwargs_empty\u001b[0;34m(kwargs_dict, raise_error)\u001b[0m\n\u001b[1;32m     16\u001b[0m \u001b[39mif\u001b[39;00m \u001b[39mlen\u001b[39m(kwargs_dict) \u001b[39m>\u001b[39m \u001b[39m0\u001b[39m:\n\u001b[1;32m     17\u001b[0m     \u001b[39mif\u001b[39;00m raise_error:\n\u001b[0;32m---> 18\u001b[0m         \u001b[39mraise\u001b[39;00m \u001b[39mValueError\u001b[39;00m(\u001b[39mf\u001b[39m\u001b[39m\"\u001b[39m\u001b[39m{\u001b[39;00m\u001b[39mlist\u001b[39m(kwargs_dict\u001b[39m.\u001b[39mkeys())\u001b[39m}\u001b[39;00m\u001b[39m are not supported arguments. Look at the documentation for supported arguments.\u001b[39m\u001b[39m\"\u001b[39m)\n\u001b[1;32m     19\u001b[0m     \u001b[39melse\u001b[39;00m:\n\u001b[1;32m     20\u001b[0m         \u001b[39mreturn\u001b[39;00m \u001b[39mTrue\u001b[39;00m\n",
      "\u001b[0;31mValueError\u001b[0m: ['text_font'] are not supported arguments. Look at the documentation for supported arguments."
     ]
    }
   ],
   "source": [
    "import customtkinter\n",
    "import tkinter.font\n",
    "\n",
    "customtkinter.set_appearance_mode(\"dark\")\n",
    "customtkinter.set_default_color_theme(\"dark-blue\")\n",
    "\n",
    "root = customtkinter.CTk()\n",
    "root.geometry(\"500x350\")\n",
    "\n",
    "\n",
    "def login():\n",
    "    print(\"Sign In\")\n",
    "\n",
    "\n",
    "frame = customtkinter.CTkFrame(master=root)\n",
    "frame.pack(pady=20, padx=60, fill=\"both\", expand=True)\n",
    "\n",
    "label = customtkinter.CTkLabel(master=frame, text=\"Login System\", text_font=(\"Courier New\", 24))\n",
    "label.pack(pady=12, padx=10)\n",
    "\n",
    "entry1 = customtkinter.CTkEntry(master=frame, placeholder_text=\"Username\")\n",
    "entry1.pack(pady=12, padx=10)\n",
    "entry2 = customtkinter.CTkEntry(master=frame, placeholder_text=\"Password\", show=\"*\")\n",
    "entry2.pack(pady=12, padx=10)\n",
    "\n",
    "button = customtkinter.CTkButton(master=frame, text=\"Login\", command=login)\n",
    "button.pack(pady=12, padx=10)\n",
    "\n",
    "checkbox = customtkinter.CTkCheckBox(master=frame, text=\"Remember Me\")\n",
    "checkbox.pack(padt=12, padx=10)\n",
    "\n",
    "root.mainloop()"
   ]
  },
  {
   "cell_type": "code",
   "execution_count": 9,
   "metadata": {},
   "outputs": [
    {
     "ename": "ValueError",
     "evalue": "['text_font'] are not supported arguments. Look at the documentation for supported arguments.",
     "output_type": "error",
     "traceback": [
      "\u001b[0;31m---------------------------------------------------------------------------\u001b[0m",
      "\u001b[0;31mValueError\u001b[0m                                Traceback (most recent call last)",
      "File \u001b[1;32m/Users/freestylebionicsyt/Documents/Freestyle bionics Official/Artificial intelligence/Password manager/Password_Management_GUI.py:18\u001b[0m\n\u001b[1;32m     15\u001b[0m frame \u001b[39m=\u001b[39m customtkinter\u001b[39m.\u001b[39mCTkFrame(master\u001b[39m=\u001b[39mroot)\n\u001b[1;32m     16\u001b[0m frame\u001b[39m.\u001b[39mpack(pady\u001b[39m=\u001b[39m\u001b[39m20\u001b[39m, padx\u001b[39m=\u001b[39m\u001b[39m60\u001b[39m, fill\u001b[39m=\u001b[39m\u001b[39m\"\u001b[39m\u001b[39mboth\u001b[39m\u001b[39m\"\u001b[39m, expand\u001b[39m=\u001b[39m\u001b[39mTrue\u001b[39;00m)\n\u001b[0;32m---> 18\u001b[0m label \u001b[39m=\u001b[39m customtkinter\u001b[39m.\u001b[39;49mCTkLabel(master\u001b[39m=\u001b[39;49mframe, text\u001b[39m=\u001b[39;49m\u001b[39m\"\u001b[39;49m\u001b[39mLogin System\u001b[39;49m\u001b[39m\"\u001b[39;49m, text_font\u001b[39m=\u001b[39;49m(\u001b[39m\"\u001b[39;49m\u001b[39mCourier New\u001b[39;49m\u001b[39m\"\u001b[39;49m, \u001b[39m24\u001b[39;49m))\n\u001b[1;32m     19\u001b[0m label\u001b[39m.\u001b[39mpack(pady\u001b[39m=\u001b[39m\u001b[39m12\u001b[39m, padx\u001b[39m=\u001b[39m\u001b[39m10\u001b[39m)\n\u001b[1;32m     21\u001b[0m entry1 \u001b[39m=\u001b[39m customtkinter\u001b[39m.\u001b[39mCTkEntry(master\u001b[39m=\u001b[39mframe, placeholder_text\u001b[39m=\u001b[39m\u001b[39m\"\u001b[39m\u001b[39mUsername\u001b[39m\u001b[39m\"\u001b[39m)\n",
      "File \u001b[0;32m~/Documents/Freestyle bionics Official/Artificial intelligence/.venv/lib/python3.9/site-packages/customtkinter/windows/widgets/ctk_label.py:101\u001b[0m, in \u001b[0;36mCTkLabel.__init__\u001b[0;34m(self, master, width, height, corner_radius, bg_color, fg_color, text_color, text_color_disabled, text, font, image, compound, anchor, wraplength, **kwargs)\u001b[0m\n\u001b[1;32m     89\u001b[0m \u001b[39mself\u001b[39m\u001b[39m.\u001b[39m_label \u001b[39m=\u001b[39m tkinter\u001b[39m.\u001b[39mLabel(master\u001b[39m=\u001b[39m\u001b[39mself\u001b[39m,\n\u001b[1;32m     90\u001b[0m                             highlightthickness\u001b[39m=\u001b[39m\u001b[39m0\u001b[39m,\n\u001b[1;32m     91\u001b[0m                             padx\u001b[39m=\u001b[39m\u001b[39m0\u001b[39m,\n\u001b[0;32m   (...)\u001b[0m\n\u001b[1;32m     97\u001b[0m                             text\u001b[39m=\u001b[39m\u001b[39mself\u001b[39m\u001b[39m.\u001b[39m_text,\n\u001b[1;32m     98\u001b[0m                             font\u001b[39m=\u001b[39m\u001b[39mself\u001b[39m\u001b[39m.\u001b[39m_apply_font_scaling(\u001b[39mself\u001b[39m\u001b[39m.\u001b[39m_font))\n\u001b[1;32m     99\u001b[0m \u001b[39mself\u001b[39m\u001b[39m.\u001b[39m_label\u001b[39m.\u001b[39mconfigure(\u001b[39m*\u001b[39m\u001b[39m*\u001b[39mpop_from_dict_by_set(kwargs, \u001b[39mself\u001b[39m\u001b[39m.\u001b[39m_valid_tk_label_attributes))\n\u001b[0;32m--> 101\u001b[0m check_kwargs_empty(kwargs, raise_error\u001b[39m=\u001b[39;49m\u001b[39mTrue\u001b[39;49;00m)\n\u001b[1;32m    103\u001b[0m \u001b[39mself\u001b[39m\u001b[39m.\u001b[39m_create_grid()\n\u001b[1;32m    104\u001b[0m \u001b[39mself\u001b[39m\u001b[39m.\u001b[39m_update_image()\n",
      "File \u001b[0;32m~/Documents/Freestyle bionics Official/Artificial intelligence/.venv/lib/python3.9/site-packages/customtkinter/windows/widgets/utility/utility_functions.py:18\u001b[0m, in \u001b[0;36mcheck_kwargs_empty\u001b[0;34m(kwargs_dict, raise_error)\u001b[0m\n\u001b[1;32m     16\u001b[0m \u001b[39mif\u001b[39;00m \u001b[39mlen\u001b[39m(kwargs_dict) \u001b[39m>\u001b[39m \u001b[39m0\u001b[39m:\n\u001b[1;32m     17\u001b[0m     \u001b[39mif\u001b[39;00m raise_error:\n\u001b[0;32m---> 18\u001b[0m         \u001b[39mraise\u001b[39;00m \u001b[39mValueError\u001b[39;00m(\u001b[39mf\u001b[39m\u001b[39m\"\u001b[39m\u001b[39m{\u001b[39;00m\u001b[39mlist\u001b[39m(kwargs_dict\u001b[39m.\u001b[39mkeys())\u001b[39m}\u001b[39;00m\u001b[39m are not supported arguments. Look at the documentation for supported arguments.\u001b[39m\u001b[39m\"\u001b[39m)\n\u001b[1;32m     19\u001b[0m     \u001b[39melse\u001b[39;00m:\n\u001b[1;32m     20\u001b[0m         \u001b[39mreturn\u001b[39;00m \u001b[39mTrue\u001b[39;00m\n",
      "\u001b[0;31mValueError\u001b[0m: ['text_font'] are not supported arguments. Look at the documentation for supported arguments."
     ]
    }
   ],
   "source": [
    "import customtkinter\n",
    "import tkinter.font\n",
    "\n",
    "customtkinter.set_appearance_mode(\"dark\")\n",
    "customtkinter.set_default_color_theme(\"dark-blue\")\n",
    "\n",
    "root = customtkinter.CTk()\n",
    "root.geometry(\"500x350\")\n",
    "\n",
    "\n",
    "def login():\n",
    "    print(\"Sign In\")\n",
    "\n",
    "\n",
    "frame = customtkinter.CTkFrame(master=root)\n",
    "frame.pack(pady=20, padx=60, fill=\"both\", expand=True)\n",
    "\n",
    "label = customtkinter.CTkLabel(master=frame, text=\"Login System\", text_font=(\"Courier New\", 24))\n",
    "label.pack(pady=12, padx=10)\n",
    "\n",
    "entry1 = customtkinter.CTkEntry(master=frame, placeholder_text=\"Username\")\n",
    "entry1.pack(pady=12, padx=10)\n",
    "entry2 = customtkinter.CTkEntry(master=frame, placeholder_text=\"Password\", show=\"*\")\n",
    "entry2.pack(pady=12, padx=10)\n",
    "\n",
    "button = customtkinter.CTkButton(master=frame, text=\"Login\", command=login)\n",
    "button.pack(pady=12, padx=10)\n",
    "\n",
    "checkbox = customtkinter.CTkCheckBox(master=frame, text=\"Remember Me\")\n",
    "checkbox.pack(padt=12, padx=10)\n",
    "\n",
    "root.mainloop()"
   ]
  },
  {
   "cell_type": "code",
   "execution_count": 10,
   "metadata": {},
   "outputs": [
    {
     "ename": "ValueError",
     "evalue": "['text_font'] are not supported arguments. Look at the documentation for supported arguments.",
     "output_type": "error",
     "traceback": [
      "\u001b[0;31m---------------------------------------------------------------------------\u001b[0m",
      "\u001b[0;31mValueError\u001b[0m                                Traceback (most recent call last)",
      "File \u001b[1;32m/Users/freestylebionicsyt/Documents/Freestyle bionics Official/Artificial intelligence/Password manager/Password_Management_GUI.py:17\u001b[0m\n\u001b[1;32m     14\u001b[0m frame \u001b[39m=\u001b[39m customtkinter\u001b[39m.\u001b[39mCTkFrame(master\u001b[39m=\u001b[39mroot)\n\u001b[1;32m     15\u001b[0m frame\u001b[39m.\u001b[39mpack(pady\u001b[39m=\u001b[39m\u001b[39m20\u001b[39m, padx\u001b[39m=\u001b[39m\u001b[39m60\u001b[39m, fill\u001b[39m=\u001b[39m\u001b[39m\"\u001b[39m\u001b[39mboth\u001b[39m\u001b[39m\"\u001b[39m, expand\u001b[39m=\u001b[39m\u001b[39mTrue\u001b[39;00m)\n\u001b[0;32m---> 17\u001b[0m label \u001b[39m=\u001b[39m customtkinter\u001b[39m.\u001b[39;49mCTkLabel(master\u001b[39m=\u001b[39;49mframe, text\u001b[39m=\u001b[39;49m\u001b[39m\"\u001b[39;49m\u001b[39mLogin System\u001b[39;49m\u001b[39m\"\u001b[39;49m, text_font\u001b[39m=\u001b[39;49m(\u001b[39m\"\u001b[39;49m\u001b[39mRoboto\u001b[39;49m\u001b[39m\"\u001b[39;49m, \u001b[39m24\u001b[39;49m))\n\u001b[1;32m     18\u001b[0m label\u001b[39m.\u001b[39mpack(pady\u001b[39m=\u001b[39m\u001b[39m12\u001b[39m, padx\u001b[39m=\u001b[39m\u001b[39m10\u001b[39m)\n\u001b[1;32m     20\u001b[0m entry1 \u001b[39m=\u001b[39m customtkinter\u001b[39m.\u001b[39mCTkEntry(master\u001b[39m=\u001b[39mframe, placeholder_text\u001b[39m=\u001b[39m\u001b[39m\"\u001b[39m\u001b[39mUsername\u001b[39m\u001b[39m\"\u001b[39m)\n",
      "File \u001b[0;32m~/Documents/Freestyle bionics Official/Artificial intelligence/.venv/lib/python3.9/site-packages/customtkinter/windows/widgets/ctk_label.py:101\u001b[0m, in \u001b[0;36mCTkLabel.__init__\u001b[0;34m(self, master, width, height, corner_radius, bg_color, fg_color, text_color, text_color_disabled, text, font, image, compound, anchor, wraplength, **kwargs)\u001b[0m\n\u001b[1;32m     89\u001b[0m \u001b[39mself\u001b[39m\u001b[39m.\u001b[39m_label \u001b[39m=\u001b[39m tkinter\u001b[39m.\u001b[39mLabel(master\u001b[39m=\u001b[39m\u001b[39mself\u001b[39m,\n\u001b[1;32m     90\u001b[0m                             highlightthickness\u001b[39m=\u001b[39m\u001b[39m0\u001b[39m,\n\u001b[1;32m     91\u001b[0m                             padx\u001b[39m=\u001b[39m\u001b[39m0\u001b[39m,\n\u001b[0;32m   (...)\u001b[0m\n\u001b[1;32m     97\u001b[0m                             text\u001b[39m=\u001b[39m\u001b[39mself\u001b[39m\u001b[39m.\u001b[39m_text,\n\u001b[1;32m     98\u001b[0m                             font\u001b[39m=\u001b[39m\u001b[39mself\u001b[39m\u001b[39m.\u001b[39m_apply_font_scaling(\u001b[39mself\u001b[39m\u001b[39m.\u001b[39m_font))\n\u001b[1;32m     99\u001b[0m \u001b[39mself\u001b[39m\u001b[39m.\u001b[39m_label\u001b[39m.\u001b[39mconfigure(\u001b[39m*\u001b[39m\u001b[39m*\u001b[39mpop_from_dict_by_set(kwargs, \u001b[39mself\u001b[39m\u001b[39m.\u001b[39m_valid_tk_label_attributes))\n\u001b[0;32m--> 101\u001b[0m check_kwargs_empty(kwargs, raise_error\u001b[39m=\u001b[39;49m\u001b[39mTrue\u001b[39;49;00m)\n\u001b[1;32m    103\u001b[0m \u001b[39mself\u001b[39m\u001b[39m.\u001b[39m_create_grid()\n\u001b[1;32m    104\u001b[0m \u001b[39mself\u001b[39m\u001b[39m.\u001b[39m_update_image()\n",
      "File \u001b[0;32m~/Documents/Freestyle bionics Official/Artificial intelligence/.venv/lib/python3.9/site-packages/customtkinter/windows/widgets/utility/utility_functions.py:18\u001b[0m, in \u001b[0;36mcheck_kwargs_empty\u001b[0;34m(kwargs_dict, raise_error)\u001b[0m\n\u001b[1;32m     16\u001b[0m \u001b[39mif\u001b[39;00m \u001b[39mlen\u001b[39m(kwargs_dict) \u001b[39m>\u001b[39m \u001b[39m0\u001b[39m:\n\u001b[1;32m     17\u001b[0m     \u001b[39mif\u001b[39;00m raise_error:\n\u001b[0;32m---> 18\u001b[0m         \u001b[39mraise\u001b[39;00m \u001b[39mValueError\u001b[39;00m(\u001b[39mf\u001b[39m\u001b[39m\"\u001b[39m\u001b[39m{\u001b[39;00m\u001b[39mlist\u001b[39m(kwargs_dict\u001b[39m.\u001b[39mkeys())\u001b[39m}\u001b[39;00m\u001b[39m are not supported arguments. Look at the documentation for supported arguments.\u001b[39m\u001b[39m\"\u001b[39m)\n\u001b[1;32m     19\u001b[0m     \u001b[39melse\u001b[39;00m:\n\u001b[1;32m     20\u001b[0m         \u001b[39mreturn\u001b[39;00m \u001b[39mTrue\u001b[39;00m\n",
      "\u001b[0;31mValueError\u001b[0m: ['text_font'] are not supported arguments. Look at the documentation for supported arguments."
     ]
    }
   ],
   "source": [
    "import customtkinter\n",
    "\n",
    "customtkinter.set_appearance_mode(\"dark\")\n",
    "customtkinter.set_default_color_theme(\"dark-blue\")\n",
    "\n",
    "root = customtkinter.CTk()\n",
    "root.geometry(\"500x350\")\n",
    "\n",
    "\n",
    "def login():\n",
    "    print(\"Sign In\")\n",
    "\n",
    "\n",
    "frame = customtkinter.CTkFrame(master=root)\n",
    "frame.pack(pady=20, padx=60, fill=\"both\", expand=True)\n",
    "\n",
    "label = customtkinter.CTkLabel(master=frame, text=\"Login System\", text_font=(\"Roboto\", 24))\n",
    "label.pack(pady=12, padx=10)\n",
    "\n",
    "entry1 = customtkinter.CTkEntry(master=frame, placeholder_text=\"Username\")\n",
    "entry1.pack(pady=12, padx=10)\n",
    "entry2 = customtkinter.CTkEntry(master=frame, placeholder_text=\"Password\", show=\"*\")\n",
    "entry2.pack(pady=12, padx=10)\n",
    "\n",
    "button = customtkinter.CTkButton(master=frame, text=\"Login\", command=login)\n",
    "button.pack(pady=12, padx=10)\n",
    "\n",
    "checkbox = customtkinter.CTkCheckBox(master=frame, text=\"Remember Me\")\n",
    "checkbox.pack(pady=12, padx=10)\n",
    "\n",
    "root.mainloop()"
   ]
  },
  {
   "cell_type": "code",
   "execution_count": 1,
   "metadata": {},
   "outputs": [
    {
     "name": "stderr",
     "output_type": "stream",
     "text": [
      "2024-04-11 12:21:32.449 Python[228:4239594] WARNING: Secure coding is automatically enabled for restorable state! However, not on all supported macOS versions of this application. Opt-in to secure coding explicitly by implementing NSApplicationDelegate.applicationSupportsSecureRestorableState:.\n"
     ]
    },
    {
     "ename": "KeyboardInterrupt",
     "evalue": "",
     "output_type": "error",
     "traceback": [
      "\u001b[0;31m---------------------------------------------------------------------------\u001b[0m",
      "\u001b[0;31mKeyboardInterrupt\u001b[0m                         Traceback (most recent call last)",
      "Cell \u001b[0;32mIn[1], line 31\u001b[0m\n\u001b[1;32m     28\u001b[0m checkbox \u001b[38;5;241m=\u001b[39m customtkinter\u001b[38;5;241m.\u001b[39mCTkCheckBox(master\u001b[38;5;241m=\u001b[39mframe, text\u001b[38;5;241m=\u001b[39m\u001b[38;5;124m\"\u001b[39m\u001b[38;5;124mRemember Me\u001b[39m\u001b[38;5;124m\"\u001b[39m)\n\u001b[1;32m     29\u001b[0m checkbox\u001b[38;5;241m.\u001b[39mpack(pady\u001b[38;5;241m=\u001b[39m\u001b[38;5;241m12\u001b[39m, padx\u001b[38;5;241m=\u001b[39m\u001b[38;5;241m10\u001b[39m)\n\u001b[0;32m---> 31\u001b[0m \u001b[43mroot\u001b[49m\u001b[38;5;241;43m.\u001b[39;49m\u001b[43mmainloop\u001b[49m\u001b[43m(\u001b[49m\u001b[43m)\u001b[49m\n",
      "File \u001b[0;32m~/Documents/Freestyle bionics Official/Artificial intelligence/.venv/lib/python3.9/site-packages/customtkinter/windows/ctk_tk.py:165\u001b[0m, in \u001b[0;36mCTk.mainloop\u001b[0;34m(self, *args, **kwargs)\u001b[0m\n\u001b[1;32m    161\u001b[0m             \u001b[38;5;28mself\u001b[39m\u001b[38;5;241m.\u001b[39mdeiconify()\n\u001b[1;32m    163\u001b[0m     \u001b[38;5;28mself\u001b[39m\u001b[38;5;241m.\u001b[39m_window_exists \u001b[38;5;241m=\u001b[39m \u001b[38;5;28;01mTrue\u001b[39;00m\n\u001b[0;32m--> 165\u001b[0m \u001b[38;5;28;43msuper\u001b[39;49m\u001b[43m(\u001b[49m\u001b[43m)\u001b[49m\u001b[38;5;241;43m.\u001b[39;49m\u001b[43mmainloop\u001b[49m\u001b[43m(\u001b[49m\u001b[38;5;241;43m*\u001b[39;49m\u001b[43margs\u001b[49m\u001b[43m,\u001b[49m\u001b[43m \u001b[49m\u001b[38;5;241;43m*\u001b[39;49m\u001b[38;5;241;43m*\u001b[39;49m\u001b[43mkwargs\u001b[49m\u001b[43m)\u001b[49m\n",
      "File \u001b[0;32m/Applications/Xcode.app/Contents/Developer/Library/Frameworks/Python3.framework/Versions/3.9/lib/python3.9/tkinter/__init__.py:1429\u001b[0m, in \u001b[0;36mMisc.mainloop\u001b[0;34m(self, n)\u001b[0m\n\u001b[1;32m   1427\u001b[0m \u001b[38;5;28;01mdef\u001b[39;00m \u001b[38;5;21mmainloop\u001b[39m(\u001b[38;5;28mself\u001b[39m, n\u001b[38;5;241m=\u001b[39m\u001b[38;5;241m0\u001b[39m):\n\u001b[1;32m   1428\u001b[0m \u001b[38;5;250m    \u001b[39m\u001b[38;5;124;03m\"\"\"Call the mainloop of Tk.\"\"\"\u001b[39;00m\n\u001b[0;32m-> 1429\u001b[0m     \u001b[38;5;28;43mself\u001b[39;49m\u001b[38;5;241;43m.\u001b[39;49m\u001b[43mtk\u001b[49m\u001b[38;5;241;43m.\u001b[39;49m\u001b[43mmainloop\u001b[49m\u001b[43m(\u001b[49m\u001b[43mn\u001b[49m\u001b[43m)\u001b[49m\n",
      "\u001b[0;31mKeyboardInterrupt\u001b[0m: "
     ]
    },
    {
     "ename": "",
     "evalue": "",
     "output_type": "error",
     "traceback": [
      "\u001b[1;31mThe Kernel crashed while executing code in the current cell or a previous cell. \n",
      "\u001b[1;31mPlease review the code in the cell(s) to identify a possible cause of the failure. \n",
      "\u001b[1;31mClick <a href='https://aka.ms/vscodeJupyterKernelCrash'>here</a> for more info. \n",
      "\u001b[1;31mView Jupyter <a href='command:jupyter.viewOutput'>log</a> for further details."
     ]
    }
   ],
   "source": [
    "import customtkinter\n",
    "\n",
    "customtkinter.set_appearance_mode(\"dark\")\n",
    "customtkinter.set_default_color_theme(\"dark-blue\")\n",
    "\n",
    "root = customtkinter.CTk()\n",
    "root.geometry(\"500x350\")\n",
    "\n",
    "\n",
    "def login():\n",
    "    print(\"Sign In\")\n",
    "\n",
    "\n",
    "frame = customtkinter.CTkFrame(master=root)\n",
    "frame.pack(pady=20, padx=60, fill=\"both\", expand=True)\n",
    "\n",
    "label = customtkinter.CTkLabel(master=frame, text=\"Login System\", font=(\"Roboto\", 24))\n",
    "label.pack(pady=12, padx=10)\n",
    "\n",
    "entry1 = customtkinter.CTkEntry(master=frame, placeholder_text=\"Username\")\n",
    "entry1.pack(pady=12, padx=10)\n",
    "entry2 = customtkinter.CTkEntry(master=frame, placeholder_text=\"Password\", show=\"*\")\n",
    "entry2.pack(pady=12, padx=10)\n",
    "\n",
    "button = customtkinter.CTkButton(master=frame, text=\"Login\", command=login)\n",
    "button.pack(pady=12, padx=10)\n",
    "\n",
    "checkbox = customtkinter.CTkCheckBox(master=frame, text=\"Remember Me\")\n",
    "checkbox.pack(pady=12, padx=10)\n",
    "\n",
    "root.mainloop()"
   ]
  }
 ],
 "metadata": {
  "kernelspec": {
   "display_name": ".venv",
   "language": "python",
   "name": "python3"
  },
  "language_info": {
   "codemirror_mode": {
    "name": "ipython",
    "version": 3
   },
   "file_extension": ".py",
   "mimetype": "text/x-python",
   "name": "python",
   "nbconvert_exporter": "python",
   "pygments_lexer": "ipython3",
   "version": "3.9.6"
  }
 },
 "nbformat": 4,
 "nbformat_minor": 2
}
